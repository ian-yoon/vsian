{
 "cells": [
  {
   "cell_type": "code",
   "execution_count": null,
   "metadata": {},
   "outputs": [],
   "source": [
    "import pyautogui\n",
    "\n",
    "print(pyautogui.position())"
   ]
  },
  {
   "cell_type": "code",
   "execution_count": null,
   "metadata": {},
   "outputs": [],
   "source": [
    "import keyboard\n",
    "import pyautogui\n",
    "from tkinter.filedialog import *\n",
    "import datetime\n",
    "\n",
    "def s_shot():\n",
    "    myScreenshot = pyautogui.screenshot(region=(55, 523, 675, 370)) # screenshot(region=(x축, y축, 가로길이, 세로길이))\n",
    "    now = datetime.datetime.now().strftime(\"%d_%H-%M-%S\")\n",
    "    path = r\"c:/data/capture/grand/\"+now+\"_screenshot.png\"\n",
    "    myScreenshot.save(path)\n",
    "\n",
    "keyboard.add_hotkey(\"ctrl+b\", lambda: s_shot())"
   ]
  },
  {
   "cell_type": "code",
   "execution_count": null,
   "metadata": {},
   "outputs": [],
   "source": [
    "import cv2\n",
    "import matplotlib.pyplot as plt\n",
    "import matplotlib.image as mpimg\n",
    "import numpy as np\n",
    "from sklearn.cluster import KMeans\n",
    "import datetime\n",
    "from collections import Counter\n",
    "import glob\n",
    "\n",
    "def palette_perc(clt):\n",
    "    n_pixels = len(clt.labels_)\n",
    "    counter = Counter(clt.labels_)\n",
    "    perc = {}\n",
    "    for i in counter:\n",
    "        perc[i] = np.round(counter[i]/n_pixels, 2)\n",
    "    perc = dict(sorted(perc.items()))\n",
    "    print(perc)\n",
    "\n",
    "def centroid_histogram(clt):\n",
    "    numLabels = np.arange(0, len(np.unique(clt.labels_))+1)\n",
    "    (hist, _) = np.histogram(clt.labels_, bins=numLabels)\n",
    "    hist = hist.astype(\"float\")\n",
    "    hist /= hist.sum()\n",
    "    return hist\n",
    "\n",
    "def plot_colors(hist, centroids):\n",
    "    bar = np.zeros((50,300,3), dtype=\"uint8\")\n",
    "    startX = 0\n",
    "    for (percent, color) in zip(hist, centroids):\n",
    "        endX = startX + (percent*300)\n",
    "        cv2.rectangle(bar, (int(startX),0), (int(endX),50), color.astype(\"uint8\").tolist(), -1)\n",
    "        startX = endX\n",
    "    return bar\n",
    "\n",
    "def image_color_cluster(image_path, k=5):\n",
    "    image = cv2.imread(image_path)\n",
    "    image = cv2.cvtColor(image, cv2.COLOR_BGR2RGB)\n",
    "    image = image.reshape((image.shape[0]*image.shape[1], 3))\n",
    "\n",
    "    clt = KMeans(n_clusters=k)\n",
    "    clt.fit(image)\n",
    "\n",
    "    hist = centroid_histogram(clt)\n",
    "    bar = plot_colors(hist, clt.cluster_centers_)\n",
    "\n",
    "    # palette_perc(clt)\n",
    "    \n",
    "    plt.figure()\n",
    "    plt.axis(\"off\")\n",
    "    plt.imshow(bar)\n",
    "    plt.show()\n",
    "    now = datetime.datetime.now().strftime(\"%d_%H-%M-%S\")\n",
    "    plt.imsave(\"c:/data/capture/grand/processed/\"+now+\"_processed.png\", bar)\n",
    "\n",
    "files=list(glob.glob('c:/data/capture/grand/*.png'))\n",
    "\n",
    "for f in files:\n",
    "    image = mpimg.imread(f)\n",
    "    image_color_cluster(f)"
   ]
  },
  {
   "cell_type": "code",
   "execution_count": null,
   "metadata": {},
   "outputs": [],
   "source": []
  }
 ],
 "metadata": {
  "language_info": {
   "name": "python"
  },
  "orig_nbformat": 4
 },
 "nbformat": 4,
 "nbformat_minor": 2
}
